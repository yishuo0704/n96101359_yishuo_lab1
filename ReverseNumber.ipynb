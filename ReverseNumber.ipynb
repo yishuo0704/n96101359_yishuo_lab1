{
 "cells": [
  {
   "cell_type": "code",
   "execution_count": 63,
   "id": "b9617f69",
   "metadata": {},
   "outputs": [],
   "source": [
    "def reverse(number):\n",
    "    a_list = []\n",
    "    a_list.extend(str(number))\n",
    "    new_list=[]\n",
    "    index = len(a_list)\n",
    "    while index :\n",
    "        index -= 1\n",
    "        new_list.append(a_list[index])\n",
    "    return''.join(new_list)"
   ]
  },
  {
   "cell_type": "code",
   "execution_count": 64,
   "id": "d04b73c8",
   "metadata": {},
   "outputs": [
    {
     "name": "stdout",
     "output_type": "stream",
     "text": [
      "enter a integer:123456789\n"
     ]
    }
   ],
   "source": [
    "num =str(input('enter a integer:'))"
   ]
  },
  {
   "cell_type": "code",
   "execution_count": 65,
   "id": "5536e80e",
   "metadata": {},
   "outputs": [
    {
     "data": {
      "text/plain": [
       "'987654321'"
      ]
     },
     "execution_count": 65,
     "metadata": {},
     "output_type": "execute_result"
    }
   ],
   "source": [
    "reverse(num)"
   ]
  },
  {
   "cell_type": "code",
   "execution_count": null,
   "id": "65c0a4d4",
   "metadata": {},
   "outputs": [],
   "source": []
  }
 ],
 "metadata": {
  "kernelspec": {
   "display_name": "Python 3",
   "language": "python",
   "name": "python3"
  },
  "language_info": {
   "codemirror_mode": {
    "name": "ipython",
    "version": 3
   },
   "file_extension": ".py",
   "mimetype": "text/x-python",
   "name": "python",
   "nbconvert_exporter": "python",
   "pygments_lexer": "ipython3",
   "version": "3.8.10"
  }
 },
 "nbformat": 4,
 "nbformat_minor": 5
}
