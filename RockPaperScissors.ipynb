{
 "cells": [
  {
   "cell_type": "code",
   "execution_count": 130,
   "id": "d7bbb93c",
   "metadata": {},
   "outputs": [],
   "source": [
    "import random"
   ]
  },
  {
   "cell_type": "code",
   "execution_count": 131,
   "id": "9bac12ce",
   "metadata": {},
   "outputs": [
    {
     "name": "stdout",
     "output_type": "stream",
     "text": [
      "enter your move:(r)ock (s)cissor (p)aper:p\n",
      "paper versus...\n",
      "paper\n",
      "it is a tie\n",
      "enter your move:(r)ock (s)cissor (p)aper:p\n",
      "paper versus...\n",
      "rock\n",
      "you win\n",
      "you have 1 ties 0 loses before your first win\n"
     ]
    }
   ],
   "source": [
    "t=0\n",
    "l=0\n",
    "win = True\n",
    "while win:\n",
    "    com = random.randint(1,3)\n",
    "    player = input('enter your move:(r)ock (s)cissor (p)aper:') \n",
    "    if player == 'r':\n",
    "        print('rock versus...')\n",
    "        if com ==1:\n",
    "            print('rock')\n",
    "            print('it is a tie')\n",
    "            t+=1\n",
    "        elif com ==2:\n",
    "            print('scisssor')\n",
    "            print('you win')\n",
    "            win = False\n",
    "            break\n",
    "        else: \n",
    "            print('paper')\n",
    "            print('you lose')\n",
    "            l+=1\n",
    "    elif player =='s':\n",
    "        print('scissor versus...')\n",
    "        if com ==1:\n",
    "            print('rock')\n",
    "            print('you lose')\n",
    "            l+=1\n",
    "        elif com ==2:\n",
    "            print('scisssor')\n",
    "            print('it is a tie')\n",
    "            t+=1\n",
    "        else: \n",
    "            print('paper')\n",
    "            print('you win')\n",
    "            win = False\n",
    "            break\n",
    "    elif player == 'p':\n",
    "        print('paper versus...')\n",
    "        if com ==1:\n",
    "            print('rock')\n",
    "            print('you win')\n",
    "            win = False\n",
    "            break\n",
    "        elif com ==2:\n",
    "            print('scisssor')\n",
    "            print('you lose')\n",
    "            l+=1\n",
    "        else: \n",
    "            print('paper')\n",
    "            print('it is a tie')\n",
    "            t+=1\n",
    "            \n",
    "if win == False:\n",
    "    print('you have',t,'ties',l,'loses before your first win')\n",
    "        \n",
    "    "
   ]
  }
 ],
 "metadata": {
  "kernelspec": {
   "display_name": "Python 3",
   "language": "python",
   "name": "python3"
  },
  "language_info": {
   "codemirror_mode": {
    "name": "ipython",
    "version": 3
   },
   "file_extension": ".py",
   "mimetype": "text/x-python",
   "name": "python",
   "nbconvert_exporter": "python",
   "pygments_lexer": "ipython3",
   "version": "3.8.10"
  }
 },
 "nbformat": 4,
 "nbformat_minor": 5
}
