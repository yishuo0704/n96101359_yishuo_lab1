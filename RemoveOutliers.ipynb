{
 "cells": [
  {
   "cell_type": "code",
   "execution_count": 125,
   "id": "8455f74e",
   "metadata": {},
   "outputs": [],
   "source": [
    "def remove_function(list):\n",
    "    print('the orginal data:',list)\n",
    "    list.sort()\n",
    "    outliers_list = []\n",
    "    outliers_list = list[0:N]+list[(len(list)-N)::]\n",
    "    for i in range(0,N):       \n",
    "        if i<N:\n",
    "            i=0\n",
    "            i+=i\n",
    "            list.pop()\n",
    "            list.pop(0)\n",
    "    print('the outliers:',outliers_list)             \n",
    "    print('the data with outlier removed:',list)"
   ]
  },
  {
   "cell_type": "code",
   "execution_count": 126,
   "id": "d091c128",
   "metadata": {},
   "outputs": [
    {
     "name": "stdout",
     "output_type": "stream",
     "text": [
      "Enter the number of smallest and largest values to remove:2\n"
     ]
    }
   ],
   "source": [
    "N =int(input('Enter the number of smallest and largest values to remove:'))"
   ]
  },
  {
   "cell_type": "code",
   "execution_count": 127,
   "id": "789d2168",
   "metadata": {},
   "outputs": [],
   "source": [
    "list = []"
   ]
  },
  {
   "cell_type": "code",
   "execution_count": 128,
   "id": "040142d5",
   "metadata": {
    "scrolled": true
   },
   "outputs": [
    {
     "name": "stdout",
     "output_type": "stream",
     "text": [
      "Enter a value(Q or q to quit):1\n",
      "Enter a value(Q or q to quit):2\n",
      "Enter a value(Q or q to quit):3\n",
      "Enter a value(Q or q to quit):4\n",
      "Enter a value(Q or q to quit):5\n",
      "Enter a value(Q or q to quit):6\n",
      "Enter a value(Q or q to quit):7\n",
      "Enter a value(Q or q to quit):8\n",
      "Enter a value(Q or q to quit):9\n",
      "Enter a value(Q or q to quit):10\n",
      "Enter a value(Q or q to quit):Q\n"
     ]
    },
    {
     "ename": "ValueError",
     "evalue": "invalid literal for int() with base 10: 'Q'",
     "output_type": "error",
     "traceback": [
      "\u001b[1;31m---------------------------------------------------------------------------\u001b[0m",
      "\u001b[1;31mValueError\u001b[0m                                Traceback (most recent call last)",
      "\u001b[1;32m<ipython-input-128-dcfde9989ebe>\u001b[0m in \u001b[0;36m<module>\u001b[1;34m\u001b[0m\n\u001b[0;32m      2\u001b[0m \u001b[1;32mwhile\u001b[0m \u001b[1;33m(\u001b[0m\u001b[0mV\u001b[0m \u001b[1;33m!=\u001b[0m\u001b[1;34m'Q'\u001b[0m\u001b[1;32mand\u001b[0m \u001b[0mV\u001b[0m \u001b[1;33m!=\u001b[0m\u001b[1;34m'q'\u001b[0m\u001b[1;33m)\u001b[0m\u001b[1;33m:\u001b[0m\u001b[1;33m\u001b[0m\u001b[1;33m\u001b[0m\u001b[0m\n\u001b[0;32m      3\u001b[0m     \u001b[0mlist\u001b[0m \u001b[1;33m+=\u001b[0m \u001b[1;33m[\u001b[0m\u001b[0mint\u001b[0m\u001b[1;33m(\u001b[0m\u001b[0mV\u001b[0m\u001b[1;33m)\u001b[0m\u001b[1;33m]\u001b[0m\u001b[1;33m\u001b[0m\u001b[1;33m\u001b[0m\u001b[0m\n\u001b[1;32m----> 4\u001b[1;33m     \u001b[0mV\u001b[0m \u001b[1;33m=\u001b[0m \u001b[0mint\u001b[0m\u001b[1;33m(\u001b[0m\u001b[0minput\u001b[0m\u001b[1;33m(\u001b[0m\u001b[1;34m'Enter a value(Q or q to quit):'\u001b[0m\u001b[1;33m)\u001b[0m\u001b[1;33m)\u001b[0m\u001b[1;33m\u001b[0m\u001b[1;33m\u001b[0m\u001b[0m\n\u001b[0m",
      "\u001b[1;31mValueError\u001b[0m: invalid literal for int() with base 10: 'Q'"
     ]
    }
   ],
   "source": [
    "V = int(input('Enter a value(Q or q to quit):'))\n",
    "while (V !='Q'and V !='q'):\n",
    "    list += [int(V)]\n",
    "    V = int(input('Enter a value(Q or q to quit):'))"
   ]
  },
  {
   "cell_type": "code",
   "execution_count": 129,
   "id": "2ffffb9d",
   "metadata": {},
   "outputs": [
    {
     "name": "stdout",
     "output_type": "stream",
     "text": [
      "the orginal data: [1, 2, 3, 4, 5, 6, 7, 8, 9, 10]\n",
      "the outliers: [1, 2, 9, 10]\n",
      "the data with outlier removed: [3, 4, 5, 6, 7, 8]\n"
     ]
    }
   ],
   "source": [
    "remove_function(list)"
   ]
  },
  {
   "cell_type": "code",
   "execution_count": null,
   "id": "45fde634",
   "metadata": {},
   "outputs": [],
   "source": []
  }
 ],
 "metadata": {
  "kernelspec": {
   "display_name": "Python 3",
   "language": "python",
   "name": "python3"
  },
  "language_info": {
   "codemirror_mode": {
    "name": "ipython",
    "version": 3
   },
   "file_extension": ".py",
   "mimetype": "text/x-python",
   "name": "python",
   "nbconvert_exporter": "python",
   "pygments_lexer": "ipython3",
   "version": "3.8.10"
  }
 },
 "nbformat": 4,
 "nbformat_minor": 5
}
